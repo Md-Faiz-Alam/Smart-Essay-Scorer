{
 "cells": [
  {
   "cell_type": "code",
   "execution_count": 1,
   "id": "e5f5bff1",
   "metadata": {},
   "outputs": [],
   "source": [
    "import numpy as np\n",
    "from sklearn.ensemble import RandomForestRegressor\n",
    "from sklearn.metrics import mean_squared_error, r2_score\n",
    "from scipy.sparse import hstack\n",
    "import joblib"
   ]
  },
  {
   "cell_type": "code",
   "execution_count": 2,
   "id": "321efa2b",
   "metadata": {},
   "outputs": [
    {
     "name": "stderr",
     "output_type": "stream",
     "text": [
      "[nltk_data] Downloading package wordnet to\n",
      "[nltk_data]     C:\\Users\\Faiz\\AppData\\Roaming\\nltk_data...\n",
      "[nltk_data]   Package wordnet is already up-to-date!\n"
     ]
    }
   ],
   "source": [
    "import re\n",
    "import nltk\n",
    "from nltk.stem import WordNetLemmatizer\n",
    "from sklearn.feature_extraction.text import ENGLISH_STOP_WORDS\n",
    "\n",
    "nltk.download('wordnet')\n",
    "lemmatizer = WordNetLemmatizer()\n",
    "\n",
    "def clean_essay(text, remove_stopwords=True, lemmatize=True):\n",
    "    if not isinstance(text, str):\n",
    "        return \"\"\n",
    "    text = text.lower()\n",
    "    text = text.strip()\n",
    "    text = re.sub(r'\\s+', ' ', text)\n",
    "    text = re.sub(r'[^a-z\\s]', '', text)\n",
    "    if remove_stopwords:\n",
    "        text = ' '.join([w for w in text.split() if w not in ENGLISH_STOP_WORDS])\n",
    "    if lemmatize:\n",
    "        text = ' '.join([lemmatizer.lemmatize(w) for w in text.split()])\n",
    "    return text\n",
    "\n",
    "new_essay = '''Technology has revolutionized nearly every aspect of modern life, and education is no exception. Over the past few decades, advancements in digital tools, the internet, and communication technologies have dramatically changed how students learn and how teachers teach. Traditional classrooms have been supplemented—or in some cases replaced—by online learning platforms, interactive software, and digital resources. This transformation has expanded access to education, making it possible for learners from all over the world to study virtually anything at any time.\n",
    "One of the most significant benefits of technology in education is the ability to access a vast amount of information quickly. Students no longer rely solely on textbooks; instead, they can explore academic articles, videos, simulations, and online lectures. This access encourages independent learning, fosters curiosity, and allows students to explore topics in greater depth than ever before. Additionally, digital tools often provide interactive features that enhance understanding, such as quizzes, animations, and real-time feedback.\n",
    "Technology also enables personalized learning. Adaptive software can analyze students’ strengths and weaknesses and tailor lessons accordingly. For instance, a student struggling with mathematics can receive additional practice problems or explanatory videos, while a student excelling in the subject can move on to more advanced concepts. This individualized approach helps ensure that every learner progresses at their own pace, reducing frustration and enhancing motivation.\n",
    "Collaboration is another area where technology has had a profound impact. Online platforms allow students to work together on projects regardless of geographic boundaries. Tools like shared documents, discussion boards, and video conferencing facilitate communication and teamwork, skills that are increasingly important in the globalized workforce. Teachers can also monitor group activities, provide guidance, and assess contributions efficiently\n",
    "Despite these advantages, technology in education comes with challenges. Overreliance on digital tools can lead to reduced critical thinking skills if students merely consume information without analyzing it. Additionally, there is a digital divide: not all students have equal access to devices or high-speed internet, which can exacerbate educational inequalities. Teachers must also adapt their methods and continuously learn new tools, which can be time-consuming and stressful\n",
    "In conclusion, technology has fundamentally transformed modern education, offering unprecedented opportunities for learning, personalization, and collaboration. While challenges exist, careful integration of digital tools can enhance educational outcomes and prepare students for a rapidly evolving world. By combining traditional teaching methods with innovative technologies, educators can create an engaging and inclusive learning environment that equips students with the knowledge, skills, and adaptability required for the future.'''\n",
    "\n",
    "new_essay_clean = clean_essay(new_essay)"
   ]
  },
  {
   "cell_type": "code",
   "execution_count": 3,
   "id": "9107010e",
   "metadata": {},
   "outputs": [],
   "source": [
    "import joblib\n",
    "\n",
    "# Load model & vectorizer\n",
    "model_forest = joblib.load(\"E:/Smart_Essay_Scorer/models/Random_forest_model.pkl\")\n",
    "tfidf = joblib.load(\"E:/Smart_essay_Scorer/models/tfidf_vectorizer.pkl\")\n",
    "model_xg = joblib.load(\"E:/Smart_Essay_Scorer/models/model_xg.pkl\")\n",
    "model_lgb = joblib.load(\"E:/Smart_Essay_Scorer/models/model_lgb.pkl\")\n"
   ]
  },
  {
   "cell_type": "code",
   "execution_count": 4,
   "id": "3f74ca5d",
   "metadata": {},
   "outputs": [
    {
     "name": "stdout",
     "output_type": "stream",
     "text": [
      "Predicted Score: 2.6980214\n",
      "Rounded Predicted Score: 3\n"
     ]
    }
   ],
   "source": [
    "# Numeric features\n",
    "word_count = len(new_essay_clean.split())\n",
    "sent_count = new_essay_clean.count('.') + 1\n",
    "words_per_sentence = word_count / max(sent_count,1)\n",
    "char_count = len(new_essay_clean)\n",
    "avg_word_length = char_count / max(word_count,1)\n",
    "\n",
    "X_numeric_new = np.array([[word_count, sent_count, word_count, words_per_sentence, char_count, avg_word_length]])\n",
    "X_text_new = tfidf.transform([new_essay_clean])\n",
    "X_new_final = hstack([X_numeric_new, X_text_new])\n",
    "\n",
    "# Predict\n",
    "predicted_score = model_xg.predict(X_new_final)\n",
    "print(\"Predicted Score:\", predicted_score[0])\n",
    "predicted_score_rounded = round(predicted_score[0])\n",
    "print(\"Rounded Predicted Score:\", predicted_score_rounded)"
   ]
  }
 ],
 "metadata": {
  "kernelspec": {
   "display_name": "venv",
   "language": "python",
   "name": "python3"
  },
  "language_info": {
   "codemirror_mode": {
    "name": "ipython",
    "version": 3
   },
   "file_extension": ".py",
   "mimetype": "text/x-python",
   "name": "python",
   "nbconvert_exporter": "python",
   "pygments_lexer": "ipython3",
   "version": "3.10.11"
  }
 },
 "nbformat": 4,
 "nbformat_minor": 5
}
